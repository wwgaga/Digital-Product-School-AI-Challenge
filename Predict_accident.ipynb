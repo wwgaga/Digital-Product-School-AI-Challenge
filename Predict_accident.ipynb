{
 "cells": [
  {
   "cell_type": "code",
   "execution_count": 1,
   "metadata": {},
   "outputs": [],
   "source": [
    "import numpy as np\n",
    "import pandas as pd \n",
    "import os \n",
    "import matplotlib.pyplot as plt"
   ]
  },
  {
   "cell_type": "code",
   "execution_count": 2,
   "metadata": {},
   "outputs": [],
   "source": [
    "path = '/Users/wuriga/Desktop/DPS_challenge/'"
   ]
  },
  {
   "cell_type": "code",
   "execution_count": 3,
   "metadata": {},
   "outputs": [
    {
     "data": {
      "text/plain": [
       "['Predict_accident.ipynb',\n",
       " 'monatszahlen2112_verkehrsunfaelle.csv',\n",
       " '.ipynb_checkpoints',\n",
       " 'Predict_accident-Copy1.ipynb']"
      ]
     },
     "execution_count": 3,
     "metadata": {},
     "output_type": "execute_result"
    }
   ],
   "source": [
    "os.listdir(path)"
   ]
  },
  {
   "cell_type": "markdown",
   "metadata": {},
   "source": [
    "# Q1: to visualise historically the number of accidents per category (column1)"
   ]
  },
  {
   "cell_type": "code",
   "execution_count": 4,
   "metadata": {
    "scrolled": false
   },
   "outputs": [
    {
     "data": {
      "text/html": [
       "<div>\n",
       "<style scoped>\n",
       "    .dataframe tbody tr th:only-of-type {\n",
       "        vertical-align: middle;\n",
       "    }\n",
       "\n",
       "    .dataframe tbody tr th {\n",
       "        vertical-align: top;\n",
       "    }\n",
       "\n",
       "    .dataframe thead th {\n",
       "        text-align: right;\n",
       "    }\n",
       "</style>\n",
       "<table border=\"1\" class=\"dataframe\">\n",
       "  <thead>\n",
       "    <tr style=\"text-align: right;\">\n",
       "      <th></th>\n",
       "      <th>MONATSZAHL</th>\n",
       "      <th>AUSPRAEGUNG</th>\n",
       "      <th>JAHR</th>\n",
       "      <th>MONAT</th>\n",
       "      <th>WERT</th>\n",
       "      <th>VORJAHRESWERT</th>\n",
       "      <th>VERAEND_VORMONAT_PROZENT</th>\n",
       "      <th>VERAEND_VORJAHRESMONAT_PROZENT</th>\n",
       "      <th>ZWOELF_MONATE_MITTELWERT</th>\n",
       "    </tr>\n",
       "  </thead>\n",
       "  <tbody>\n",
       "    <tr>\n",
       "      <th>1990</th>\n",
       "      <td>Verkehrsunfälle</td>\n",
       "      <td>Verletzte und Getötete</td>\n",
       "      <td>2000</td>\n",
       "      <td>200008</td>\n",
       "      <td>647.0</td>\n",
       "      <td>NaN</td>\n",
       "      <td>-13.04</td>\n",
       "      <td>NaN</td>\n",
       "      <td>584.0</td>\n",
       "    </tr>\n",
       "    <tr>\n",
       "      <th>1991</th>\n",
       "      <td>Verkehrsunfälle</td>\n",
       "      <td>Verletzte und Getötete</td>\n",
       "      <td>2000</td>\n",
       "      <td>200009</td>\n",
       "      <td>675.0</td>\n",
       "      <td>NaN</td>\n",
       "      <td>4.33</td>\n",
       "      <td>NaN</td>\n",
       "      <td>594.0</td>\n",
       "    </tr>\n",
       "    <tr>\n",
       "      <th>1992</th>\n",
       "      <td>Verkehrsunfälle</td>\n",
       "      <td>Verletzte und Getötete</td>\n",
       "      <td>2000</td>\n",
       "      <td>200010</td>\n",
       "      <td>615.0</td>\n",
       "      <td>NaN</td>\n",
       "      <td>-8.89</td>\n",
       "      <td>NaN</td>\n",
       "      <td>596.0</td>\n",
       "    </tr>\n",
       "    <tr>\n",
       "      <th>1993</th>\n",
       "      <td>Verkehrsunfälle</td>\n",
       "      <td>Verletzte und Getötete</td>\n",
       "      <td>2000</td>\n",
       "      <td>200011</td>\n",
       "      <td>578.0</td>\n",
       "      <td>NaN</td>\n",
       "      <td>-6.02</td>\n",
       "      <td>NaN</td>\n",
       "      <td>594.0</td>\n",
       "    </tr>\n",
       "    <tr>\n",
       "      <th>1994</th>\n",
       "      <td>Verkehrsunfälle</td>\n",
       "      <td>Verletzte und Getötete</td>\n",
       "      <td>2000</td>\n",
       "      <td>200012</td>\n",
       "      <td>515.0</td>\n",
       "      <td>NaN</td>\n",
       "      <td>-10.90</td>\n",
       "      <td>NaN</td>\n",
       "      <td>588.0</td>\n",
       "    </tr>\n",
       "  </tbody>\n",
       "</table>\n",
       "</div>"
      ],
      "text/plain": [
       "           MONATSZAHL             AUSPRAEGUNG  JAHR   MONAT   WERT  \\\n",
       "1990  Verkehrsunfälle  Verletzte und Getötete  2000  200008  647.0   \n",
       "1991  Verkehrsunfälle  Verletzte und Getötete  2000  200009  675.0   \n",
       "1992  Verkehrsunfälle  Verletzte und Getötete  2000  200010  615.0   \n",
       "1993  Verkehrsunfälle  Verletzte und Getötete  2000  200011  578.0   \n",
       "1994  Verkehrsunfälle  Verletzte und Getötete  2000  200012  515.0   \n",
       "\n",
       "      VORJAHRESWERT  VERAEND_VORMONAT_PROZENT  VERAEND_VORJAHRESMONAT_PROZENT  \\\n",
       "1990            NaN                    -13.04                             NaN   \n",
       "1991            NaN                      4.33                             NaN   \n",
       "1992            NaN                     -8.89                             NaN   \n",
       "1993            NaN                     -6.02                             NaN   \n",
       "1994            NaN                    -10.90                             NaN   \n",
       "\n",
       "      ZWOELF_MONATE_MITTELWERT  \n",
       "1990                     584.0  \n",
       "1991                     594.0  \n",
       "1992                     596.0  \n",
       "1993                     594.0  \n",
       "1994                     588.0  "
      ]
     },
     "execution_count": 4,
     "metadata": {},
     "output_type": "execute_result"
    }
   ],
   "source": [
    "df = pd.read_csv('monatszahlen2112_verkehrsunfaelle.csv')\n",
    "df.tail()"
   ]
  },
  {
   "cell_type": "markdown",
   "metadata": {},
   "source": [
    "Tranlation of column names: 'AUSPRAEGUNG':'SPECIFICATION','WERT':'VALUE'"
   ]
  },
  {
   "cell_type": "code",
   "execution_count": 5,
   "metadata": {},
   "outputs": [
    {
     "data": {
      "text/plain": [
       "['MONATSZAHL',\n",
       " 'AUSPRAEGUNG',\n",
       " 'JAHR',\n",
       " 'MONAT',\n",
       " 'WERT',\n",
       " 'VORJAHRESWERT',\n",
       " 'VERAEND_VORMONAT_PROZENT',\n",
       " 'VERAEND_VORJAHRESMONAT_PROZENT',\n",
       " 'ZWOELF_MONATE_MITTELWERT']"
      ]
     },
     "execution_count": 5,
     "metadata": {},
     "output_type": "execute_result"
    }
   ],
   "source": [
    "#list of columns names \n",
    "list(df.columns)"
   ]
  },
  {
   "cell_type": "code",
   "execution_count": 6,
   "metadata": {
    "scrolled": false
   },
   "outputs": [
    {
     "name": "stdout",
     "output_type": "stream",
     "text": [
      "<class 'pandas.core.frame.DataFrame'>\n",
      "RangeIndex: 1995 entries, 0 to 1994\n",
      "Data columns (total 9 columns):\n",
      " #   Column                          Non-Null Count  Dtype  \n",
      "---  ------                          --------------  -----  \n",
      " 0   MONATSZAHL                      1995 non-null   object \n",
      " 1   AUSPRAEGUNG                     1995 non-null   object \n",
      " 2   JAHR                            1995 non-null   int64  \n",
      " 3   MONAT                           1995 non-null   object \n",
      " 4   WERT                            1911 non-null   float64\n",
      " 5   VORJAHRESWERT                   1904 non-null   float64\n",
      " 6   VERAEND_VORMONAT_PROZENT        1756 non-null   float64\n",
      " 7   VERAEND_VORJAHRESMONAT_PROZENT  1819 non-null   float64\n",
      " 8   ZWOELF_MONATE_MITTELWERT        1764 non-null   float64\n",
      "dtypes: float64(5), int64(1), object(3)\n",
      "memory usage: 140.4+ KB\n"
     ]
    }
   ],
   "source": [
    "#Dataframe info\n",
    "df.info()"
   ]
  },
  {
   "cell_type": "code",
   "execution_count": 7,
   "metadata": {},
   "outputs": [
    {
     "data": {
      "text/plain": [
       "0"
      ]
     },
     "execution_count": 7,
     "metadata": {},
     "output_type": "execute_result"
    }
   ],
   "source": [
    "# Assess whether or not the dataframe contains duplicated rows.\n",
    "df.duplicated().sum()"
   ]
  },
  {
   "cell_type": "code",
   "execution_count": 8,
   "metadata": {
    "scrolled": true
   },
   "outputs": [
    {
     "data": {
      "text/plain": [
       "(1995, 9)"
      ]
     },
     "execution_count": 8,
     "metadata": {},
     "output_type": "execute_result"
    }
   ],
   "source": [
    "df.shape"
   ]
  },
  {
   "cell_type": "markdown",
   "metadata": {},
   "source": [
    "Apparently,the dataframe contain null values,since some columns have less than 1995 rows. "
   ]
  },
  {
   "cell_type": "code",
   "execution_count": 9,
   "metadata": {
    "scrolled": true
   },
   "outputs": [
    {
     "data": {
      "text/plain": [
       "True"
      ]
     },
     "execution_count": 9,
     "metadata": {},
     "output_type": "execute_result"
    }
   ],
   "source": [
    "# Apparently, there are not null values.\n",
    "df.isnull().sum().any()"
   ]
  },
  {
   "cell_type": "markdown",
   "metadata": {},
   "source": [
    "It means the dataframe contains null values.We can replace the NAN values with zero."
   ]
  },
  {
   "cell_type": "code",
   "execution_count": 10,
   "metadata": {},
   "outputs": [],
   "source": [
    "df.fillna(value= 0 , inplace= True)"
   ]
  },
  {
   "cell_type": "code",
   "execution_count": 11,
   "metadata": {
    "scrolled": true
   },
   "outputs": [
    {
     "data": {
      "text/plain": [
       "Verkehrsunfälle    855\n",
       "Fluchtunfälle      570\n",
       "Alkoholunfälle     570\n",
       "Name: MONATSZAHL, dtype: int64"
      ]
     },
     "execution_count": 11,
     "metadata": {},
     "output_type": "execute_result"
    }
   ],
   "source": [
    "df['MONATSZAHL'].value_counts()"
   ]
  },
  {
   "cell_type": "code",
   "execution_count": 12,
   "metadata": {
    "scrolled": true
   },
   "outputs": [
    {
     "data": {
      "text/plain": [
       "insgesamt                 855\n",
       "Verletzte und Getötete    855\n",
       "mit Personenschäden       285\n",
       "Name: AUSPRAEGUNG, dtype: int64"
      ]
     },
     "execution_count": 12,
     "metadata": {},
     "output_type": "execute_result"
    }
   ],
   "source": [
    "df['AUSPRAEGUNG'].value_counts()"
   ]
  },
  {
   "cell_type": "markdown",
   "metadata": {},
   "source": [
    "As we can see,the accident contains 3 categories: Verkehrsunfälle (traffic accidents) happens 855 times,Alkoholunfälle (alcoholic accident) happens 570 and the last type Fluchtunfälle (escape accidents) also happens 570.In each type of accident, it also can be divided into three types: insgesamt(total number),Verletzte und Getötete(injured and died),mit Personenschäden(with personjuiry)."
   ]
  },
  {
   "cell_type": "markdown",
   "metadata": {},
   "source": [
    "Since we anlysis the variations of each type of accidents hitorically, we only need the data related the time ,accident types.So we can delete the all unrelated columns."
   ]
  },
  {
   "cell_type": "code",
   "execution_count": 13,
   "metadata": {},
   "outputs": [],
   "source": [
    "# drop the unneccessary columns\n",
    "#df.columns[-4:]\n",
    "df.drop(df.columns[-4:],axis = 1, inplace = True)"
   ]
  },
  {
   "cell_type": "code",
   "execution_count": 14,
   "metadata": {},
   "outputs": [
    {
     "data": {
      "text/plain": [
       "Index(['MONATSZAHL', 'AUSPRAEGUNG', 'JAHR', 'MONAT', 'WERT'], dtype='object')"
      ]
     },
     "execution_count": 14,
     "metadata": {},
     "output_type": "execute_result"
    }
   ],
   "source": [
    "# columns after dropping \n",
    "df.columns"
   ]
  },
  {
   "cell_type": "code",
   "execution_count": 15,
   "metadata": {},
   "outputs": [
    {
     "data": {
      "text/html": [
       "<div>\n",
       "<style scoped>\n",
       "    .dataframe tbody tr th:only-of-type {\n",
       "        vertical-align: middle;\n",
       "    }\n",
       "\n",
       "    .dataframe tbody tr th {\n",
       "        vertical-align: top;\n",
       "    }\n",
       "\n",
       "    .dataframe thead th {\n",
       "        text-align: right;\n",
       "    }\n",
       "</style>\n",
       "<table border=\"1\" class=\"dataframe\">\n",
       "  <thead>\n",
       "    <tr style=\"text-align: right;\">\n",
       "      <th></th>\n",
       "      <th>MONATSZAHL</th>\n",
       "      <th>AUSPRAEGUNG</th>\n",
       "      <th>JAHR</th>\n",
       "      <th>MONAT</th>\n",
       "      <th>WERT</th>\n",
       "    </tr>\n",
       "  </thead>\n",
       "  <tbody>\n",
       "    <tr>\n",
       "      <th>12</th>\n",
       "      <td>Alkoholunfälle</td>\n",
       "      <td>insgesamt</td>\n",
       "      <td>2020</td>\n",
       "      <td>Summe</td>\n",
       "      <td>430.0</td>\n",
       "    </tr>\n",
       "    <tr>\n",
       "      <th>13</th>\n",
       "      <td>Alkoholunfälle</td>\n",
       "      <td>insgesamt</td>\n",
       "      <td>2020</td>\n",
       "      <td>202001</td>\n",
       "      <td>28.0</td>\n",
       "    </tr>\n",
       "    <tr>\n",
       "      <th>14</th>\n",
       "      <td>Alkoholunfälle</td>\n",
       "      <td>insgesamt</td>\n",
       "      <td>2020</td>\n",
       "      <td>202002</td>\n",
       "      <td>40.0</td>\n",
       "    </tr>\n",
       "    <tr>\n",
       "      <th>15</th>\n",
       "      <td>Alkoholunfälle</td>\n",
       "      <td>insgesamt</td>\n",
       "      <td>2020</td>\n",
       "      <td>202003</td>\n",
       "      <td>27.0</td>\n",
       "    </tr>\n",
       "    <tr>\n",
       "      <th>16</th>\n",
       "      <td>Alkoholunfälle</td>\n",
       "      <td>insgesamt</td>\n",
       "      <td>2020</td>\n",
       "      <td>202004</td>\n",
       "      <td>26.0</td>\n",
       "    </tr>\n",
       "    <tr>\n",
       "      <th>17</th>\n",
       "      <td>Alkoholunfälle</td>\n",
       "      <td>insgesamt</td>\n",
       "      <td>2020</td>\n",
       "      <td>202005</td>\n",
       "      <td>40.0</td>\n",
       "    </tr>\n",
       "    <tr>\n",
       "      <th>18</th>\n",
       "      <td>Alkoholunfälle</td>\n",
       "      <td>insgesamt</td>\n",
       "      <td>2020</td>\n",
       "      <td>202006</td>\n",
       "      <td>49.0</td>\n",
       "    </tr>\n",
       "    <tr>\n",
       "      <th>19</th>\n",
       "      <td>Alkoholunfälle</td>\n",
       "      <td>insgesamt</td>\n",
       "      <td>2020</td>\n",
       "      <td>202007</td>\n",
       "      <td>58.0</td>\n",
       "    </tr>\n",
       "    <tr>\n",
       "      <th>20</th>\n",
       "      <td>Alkoholunfälle</td>\n",
       "      <td>insgesamt</td>\n",
       "      <td>2020</td>\n",
       "      <td>202008</td>\n",
       "      <td>46.0</td>\n",
       "    </tr>\n",
       "    <tr>\n",
       "      <th>21</th>\n",
       "      <td>Alkoholunfälle</td>\n",
       "      <td>insgesamt</td>\n",
       "      <td>2020</td>\n",
       "      <td>202009</td>\n",
       "      <td>46.0</td>\n",
       "    </tr>\n",
       "    <tr>\n",
       "      <th>22</th>\n",
       "      <td>Alkoholunfälle</td>\n",
       "      <td>insgesamt</td>\n",
       "      <td>2020</td>\n",
       "      <td>202010</td>\n",
       "      <td>34.0</td>\n",
       "    </tr>\n",
       "    <tr>\n",
       "      <th>23</th>\n",
       "      <td>Alkoholunfälle</td>\n",
       "      <td>insgesamt</td>\n",
       "      <td>2020</td>\n",
       "      <td>202011</td>\n",
       "      <td>23.0</td>\n",
       "    </tr>\n",
       "    <tr>\n",
       "      <th>24</th>\n",
       "      <td>Alkoholunfälle</td>\n",
       "      <td>insgesamt</td>\n",
       "      <td>2020</td>\n",
       "      <td>202012</td>\n",
       "      <td>13.0</td>\n",
       "    </tr>\n",
       "    <tr>\n",
       "      <th>297</th>\n",
       "      <td>Alkoholunfälle</td>\n",
       "      <td>Verletzte und Getötete</td>\n",
       "      <td>2020</td>\n",
       "      <td>Summe</td>\n",
       "      <td>250.0</td>\n",
       "    </tr>\n",
       "    <tr>\n",
       "      <th>298</th>\n",
       "      <td>Alkoholunfälle</td>\n",
       "      <td>Verletzte und Getötete</td>\n",
       "      <td>2020</td>\n",
       "      <td>202001</td>\n",
       "      <td>11.0</td>\n",
       "    </tr>\n",
       "    <tr>\n",
       "      <th>299</th>\n",
       "      <td>Alkoholunfälle</td>\n",
       "      <td>Verletzte und Getötete</td>\n",
       "      <td>2020</td>\n",
       "      <td>202002</td>\n",
       "      <td>19.0</td>\n",
       "    </tr>\n",
       "    <tr>\n",
       "      <th>300</th>\n",
       "      <td>Alkoholunfälle</td>\n",
       "      <td>Verletzte und Getötete</td>\n",
       "      <td>2020</td>\n",
       "      <td>202003</td>\n",
       "      <td>13.0</td>\n",
       "    </tr>\n",
       "    <tr>\n",
       "      <th>301</th>\n",
       "      <td>Alkoholunfälle</td>\n",
       "      <td>Verletzte und Getötete</td>\n",
       "      <td>2020</td>\n",
       "      <td>202004</td>\n",
       "      <td>15.0</td>\n",
       "    </tr>\n",
       "    <tr>\n",
       "      <th>302</th>\n",
       "      <td>Alkoholunfälle</td>\n",
       "      <td>Verletzte und Getötete</td>\n",
       "      <td>2020</td>\n",
       "      <td>202005</td>\n",
       "      <td>26.0</td>\n",
       "    </tr>\n",
       "    <tr>\n",
       "      <th>303</th>\n",
       "      <td>Alkoholunfälle</td>\n",
       "      <td>Verletzte und Getötete</td>\n",
       "      <td>2020</td>\n",
       "      <td>202006</td>\n",
       "      <td>30.0</td>\n",
       "    </tr>\n",
       "    <tr>\n",
       "      <th>304</th>\n",
       "      <td>Alkoholunfälle</td>\n",
       "      <td>Verletzte und Getötete</td>\n",
       "      <td>2020</td>\n",
       "      <td>202007</td>\n",
       "      <td>43.0</td>\n",
       "    </tr>\n",
       "    <tr>\n",
       "      <th>305</th>\n",
       "      <td>Alkoholunfälle</td>\n",
       "      <td>Verletzte und Getötete</td>\n",
       "      <td>2020</td>\n",
       "      <td>202008</td>\n",
       "      <td>29.0</td>\n",
       "    </tr>\n",
       "    <tr>\n",
       "      <th>306</th>\n",
       "      <td>Alkoholunfälle</td>\n",
       "      <td>Verletzte und Getötete</td>\n",
       "      <td>2020</td>\n",
       "      <td>202009</td>\n",
       "      <td>24.0</td>\n",
       "    </tr>\n",
       "    <tr>\n",
       "      <th>307</th>\n",
       "      <td>Alkoholunfälle</td>\n",
       "      <td>Verletzte und Getötete</td>\n",
       "      <td>2020</td>\n",
       "      <td>202010</td>\n",
       "      <td>20.0</td>\n",
       "    </tr>\n",
       "    <tr>\n",
       "      <th>308</th>\n",
       "      <td>Alkoholunfälle</td>\n",
       "      <td>Verletzte und Getötete</td>\n",
       "      <td>2020</td>\n",
       "      <td>202011</td>\n",
       "      <td>11.0</td>\n",
       "    </tr>\n",
       "    <tr>\n",
       "      <th>309</th>\n",
       "      <td>Alkoholunfälle</td>\n",
       "      <td>Verletzte und Getötete</td>\n",
       "      <td>2020</td>\n",
       "      <td>202012</td>\n",
       "      <td>9.0</td>\n",
       "    </tr>\n",
       "    <tr>\n",
       "      <th>582</th>\n",
       "      <td>Fluchtunfälle</td>\n",
       "      <td>insgesamt</td>\n",
       "      <td>2020</td>\n",
       "      <td>Summe</td>\n",
       "      <td>10024.0</td>\n",
       "    </tr>\n",
       "    <tr>\n",
       "      <th>583</th>\n",
       "      <td>Fluchtunfälle</td>\n",
       "      <td>insgesamt</td>\n",
       "      <td>2020</td>\n",
       "      <td>202001</td>\n",
       "      <td>791.0</td>\n",
       "    </tr>\n",
       "    <tr>\n",
       "      <th>584</th>\n",
       "      <td>Fluchtunfälle</td>\n",
       "      <td>insgesamt</td>\n",
       "      <td>2020</td>\n",
       "      <td>202002</td>\n",
       "      <td>870.0</td>\n",
       "    </tr>\n",
       "    <tr>\n",
       "      <th>585</th>\n",
       "      <td>Fluchtunfälle</td>\n",
       "      <td>insgesamt</td>\n",
       "      <td>2020</td>\n",
       "      <td>202003</td>\n",
       "      <td>744.0</td>\n",
       "    </tr>\n",
       "  </tbody>\n",
       "</table>\n",
       "</div>"
      ],
      "text/plain": [
       "         MONATSZAHL             AUSPRAEGUNG  JAHR   MONAT     WERT\n",
       "12   Alkoholunfälle               insgesamt  2020   Summe    430.0\n",
       "13   Alkoholunfälle               insgesamt  2020  202001     28.0\n",
       "14   Alkoholunfälle               insgesamt  2020  202002     40.0\n",
       "15   Alkoholunfälle               insgesamt  2020  202003     27.0\n",
       "16   Alkoholunfälle               insgesamt  2020  202004     26.0\n",
       "17   Alkoholunfälle               insgesamt  2020  202005     40.0\n",
       "18   Alkoholunfälle               insgesamt  2020  202006     49.0\n",
       "19   Alkoholunfälle               insgesamt  2020  202007     58.0\n",
       "20   Alkoholunfälle               insgesamt  2020  202008     46.0\n",
       "21   Alkoholunfälle               insgesamt  2020  202009     46.0\n",
       "22   Alkoholunfälle               insgesamt  2020  202010     34.0\n",
       "23   Alkoholunfälle               insgesamt  2020  202011     23.0\n",
       "24   Alkoholunfälle               insgesamt  2020  202012     13.0\n",
       "297  Alkoholunfälle  Verletzte und Getötete  2020   Summe    250.0\n",
       "298  Alkoholunfälle  Verletzte und Getötete  2020  202001     11.0\n",
       "299  Alkoholunfälle  Verletzte und Getötete  2020  202002     19.0\n",
       "300  Alkoholunfälle  Verletzte und Getötete  2020  202003     13.0\n",
       "301  Alkoholunfälle  Verletzte und Getötete  2020  202004     15.0\n",
       "302  Alkoholunfälle  Verletzte und Getötete  2020  202005     26.0\n",
       "303  Alkoholunfälle  Verletzte und Getötete  2020  202006     30.0\n",
       "304  Alkoholunfälle  Verletzte und Getötete  2020  202007     43.0\n",
       "305  Alkoholunfälle  Verletzte und Getötete  2020  202008     29.0\n",
       "306  Alkoholunfälle  Verletzte und Getötete  2020  202009     24.0\n",
       "307  Alkoholunfälle  Verletzte und Getötete  2020  202010     20.0\n",
       "308  Alkoholunfälle  Verletzte und Getötete  2020  202011     11.0\n",
       "309  Alkoholunfälle  Verletzte und Getötete  2020  202012      9.0\n",
       "582   Fluchtunfälle               insgesamt  2020   Summe  10024.0\n",
       "583   Fluchtunfälle               insgesamt  2020  202001    791.0\n",
       "584   Fluchtunfälle               insgesamt  2020  202002    870.0\n",
       "585   Fluchtunfälle               insgesamt  2020  202003    744.0"
      ]
     },
     "execution_count": 15,
     "metadata": {},
     "output_type": "execute_result"
    }
   ],
   "source": [
    "df[df['JAHR'] == 2020].head(30)"
   ]
  },
  {
   "cell_type": "markdown",
   "metadata": {},
   "source": [
    "As shown above, the dataframe starts from 2021 to 2000.Essentially, it contains a row at the end of each year to sum up the accident in the whole year.These summary rows are named as 'Summe' in the 'MONAT' column.If we'd like to do the monthly analysis, we need to exclude the summe in each year."
   ]
  },
  {
   "cell_type": "markdown",
   "metadata": {},
   "source": [
    "# Total accidents in years"
   ]
  },
  {
   "cell_type": "code",
   "execution_count": 16,
   "metadata": {
    "scrolled": true
   },
   "outputs": [
    {
     "data": {
      "text/html": [
       "<div>\n",
       "<style scoped>\n",
       "    .dataframe tbody tr th:only-of-type {\n",
       "        vertical-align: middle;\n",
       "    }\n",
       "\n",
       "    .dataframe tbody tr th {\n",
       "        vertical-align: top;\n",
       "    }\n",
       "\n",
       "    .dataframe thead th {\n",
       "        text-align: right;\n",
       "    }\n",
       "</style>\n",
       "<table border=\"1\" class=\"dataframe\">\n",
       "  <thead>\n",
       "    <tr style=\"text-align: right;\">\n",
       "      <th></th>\n",
       "      <th>MONATSZAHL</th>\n",
       "      <th>AUSPRAEGUNG</th>\n",
       "      <th>JAHR</th>\n",
       "      <th>MONAT</th>\n",
       "      <th>WERT</th>\n",
       "    </tr>\n",
       "  </thead>\n",
       "  <tbody>\n",
       "    <tr>\n",
       "      <th>12</th>\n",
       "      <td>Alkoholunfälle</td>\n",
       "      <td>insgesamt</td>\n",
       "      <td>2020</td>\n",
       "      <td>Summe</td>\n",
       "      <td>430.0</td>\n",
       "    </tr>\n",
       "    <tr>\n",
       "      <th>25</th>\n",
       "      <td>Alkoholunfälle</td>\n",
       "      <td>insgesamt</td>\n",
       "      <td>2019</td>\n",
       "      <td>Summe</td>\n",
       "      <td>434.0</td>\n",
       "    </tr>\n",
       "    <tr>\n",
       "      <th>38</th>\n",
       "      <td>Alkoholunfälle</td>\n",
       "      <td>insgesamt</td>\n",
       "      <td>2018</td>\n",
       "      <td>Summe</td>\n",
       "      <td>398.0</td>\n",
       "    </tr>\n",
       "    <tr>\n",
       "      <th>51</th>\n",
       "      <td>Alkoholunfälle</td>\n",
       "      <td>insgesamt</td>\n",
       "      <td>2017</td>\n",
       "      <td>Summe</td>\n",
       "      <td>409.0</td>\n",
       "    </tr>\n",
       "    <tr>\n",
       "      <th>64</th>\n",
       "      <td>Alkoholunfälle</td>\n",
       "      <td>insgesamt</td>\n",
       "      <td>2016</td>\n",
       "      <td>Summe</td>\n",
       "      <td>301.0</td>\n",
       "    </tr>\n",
       "    <tr>\n",
       "      <th>77</th>\n",
       "      <td>Alkoholunfälle</td>\n",
       "      <td>insgesamt</td>\n",
       "      <td>2015</td>\n",
       "      <td>Summe</td>\n",
       "      <td>411.0</td>\n",
       "    </tr>\n",
       "    <tr>\n",
       "      <th>90</th>\n",
       "      <td>Alkoholunfälle</td>\n",
       "      <td>insgesamt</td>\n",
       "      <td>2014</td>\n",
       "      <td>Summe</td>\n",
       "      <td>382.0</td>\n",
       "    </tr>\n",
       "    <tr>\n",
       "      <th>103</th>\n",
       "      <td>Alkoholunfälle</td>\n",
       "      <td>insgesamt</td>\n",
       "      <td>2013</td>\n",
       "      <td>Summe</td>\n",
       "      <td>377.0</td>\n",
       "    </tr>\n",
       "    <tr>\n",
       "      <th>116</th>\n",
       "      <td>Alkoholunfälle</td>\n",
       "      <td>insgesamt</td>\n",
       "      <td>2012</td>\n",
       "      <td>Summe</td>\n",
       "      <td>440.0</td>\n",
       "    </tr>\n",
       "    <tr>\n",
       "      <th>129</th>\n",
       "      <td>Alkoholunfälle</td>\n",
       "      <td>insgesamt</td>\n",
       "      <td>2011</td>\n",
       "      <td>Summe</td>\n",
       "      <td>397.0</td>\n",
       "    </tr>\n",
       "    <tr>\n",
       "      <th>142</th>\n",
       "      <td>Alkoholunfälle</td>\n",
       "      <td>insgesamt</td>\n",
       "      <td>2010</td>\n",
       "      <td>Summe</td>\n",
       "      <td>402.0</td>\n",
       "    </tr>\n",
       "    <tr>\n",
       "      <th>155</th>\n",
       "      <td>Alkoholunfälle</td>\n",
       "      <td>insgesamt</td>\n",
       "      <td>2009</td>\n",
       "      <td>Summe</td>\n",
       "      <td>430.0</td>\n",
       "    </tr>\n",
       "    <tr>\n",
       "      <th>168</th>\n",
       "      <td>Alkoholunfälle</td>\n",
       "      <td>insgesamt</td>\n",
       "      <td>2008</td>\n",
       "      <td>Summe</td>\n",
       "      <td>482.0</td>\n",
       "    </tr>\n",
       "    <tr>\n",
       "      <th>181</th>\n",
       "      <td>Alkoholunfälle</td>\n",
       "      <td>insgesamt</td>\n",
       "      <td>2007</td>\n",
       "      <td>Summe</td>\n",
       "      <td>560.0</td>\n",
       "    </tr>\n",
       "    <tr>\n",
       "      <th>194</th>\n",
       "      <td>Alkoholunfälle</td>\n",
       "      <td>insgesamt</td>\n",
       "      <td>2006</td>\n",
       "      <td>Summe</td>\n",
       "      <td>599.0</td>\n",
       "    </tr>\n",
       "    <tr>\n",
       "      <th>207</th>\n",
       "      <td>Alkoholunfälle</td>\n",
       "      <td>insgesamt</td>\n",
       "      <td>2005</td>\n",
       "      <td>Summe</td>\n",
       "      <td>600.0</td>\n",
       "    </tr>\n",
       "    <tr>\n",
       "      <th>220</th>\n",
       "      <td>Alkoholunfälle</td>\n",
       "      <td>insgesamt</td>\n",
       "      <td>2004</td>\n",
       "      <td>Summe</td>\n",
       "      <td>659.0</td>\n",
       "    </tr>\n",
       "    <tr>\n",
       "      <th>233</th>\n",
       "      <td>Alkoholunfälle</td>\n",
       "      <td>insgesamt</td>\n",
       "      <td>2003</td>\n",
       "      <td>Summe</td>\n",
       "      <td>730.0</td>\n",
       "    </tr>\n",
       "    <tr>\n",
       "      <th>246</th>\n",
       "      <td>Alkoholunfälle</td>\n",
       "      <td>insgesamt</td>\n",
       "      <td>2002</td>\n",
       "      <td>Summe</td>\n",
       "      <td>803.0</td>\n",
       "    </tr>\n",
       "    <tr>\n",
       "      <th>259</th>\n",
       "      <td>Alkoholunfälle</td>\n",
       "      <td>insgesamt</td>\n",
       "      <td>2001</td>\n",
       "      <td>Summe</td>\n",
       "      <td>848.0</td>\n",
       "    </tr>\n",
       "    <tr>\n",
       "      <th>272</th>\n",
       "      <td>Alkoholunfälle</td>\n",
       "      <td>insgesamt</td>\n",
       "      <td>2000</td>\n",
       "      <td>Summe</td>\n",
       "      <td>934.0</td>\n",
       "    </tr>\n",
       "    <tr>\n",
       "      <th>297</th>\n",
       "      <td>Alkoholunfälle</td>\n",
       "      <td>Verletzte und Getötete</td>\n",
       "      <td>2020</td>\n",
       "      <td>Summe</td>\n",
       "      <td>250.0</td>\n",
       "    </tr>\n",
       "    <tr>\n",
       "      <th>310</th>\n",
       "      <td>Alkoholunfälle</td>\n",
       "      <td>Verletzte und Getötete</td>\n",
       "      <td>2019</td>\n",
       "      <td>Summe</td>\n",
       "      <td>227.0</td>\n",
       "    </tr>\n",
       "    <tr>\n",
       "      <th>323</th>\n",
       "      <td>Alkoholunfälle</td>\n",
       "      <td>Verletzte und Getötete</td>\n",
       "      <td>2018</td>\n",
       "      <td>Summe</td>\n",
       "      <td>182.0</td>\n",
       "    </tr>\n",
       "    <tr>\n",
       "      <th>336</th>\n",
       "      <td>Alkoholunfälle</td>\n",
       "      <td>Verletzte und Getötete</td>\n",
       "      <td>2017</td>\n",
       "      <td>Summe</td>\n",
       "      <td>176.0</td>\n",
       "    </tr>\n",
       "    <tr>\n",
       "      <th>349</th>\n",
       "      <td>Alkoholunfälle</td>\n",
       "      <td>Verletzte und Getötete</td>\n",
       "      <td>2016</td>\n",
       "      <td>Summe</td>\n",
       "      <td>144.0</td>\n",
       "    </tr>\n",
       "    <tr>\n",
       "      <th>362</th>\n",
       "      <td>Alkoholunfälle</td>\n",
       "      <td>Verletzte und Getötete</td>\n",
       "      <td>2015</td>\n",
       "      <td>Summe</td>\n",
       "      <td>225.0</td>\n",
       "    </tr>\n",
       "    <tr>\n",
       "      <th>375</th>\n",
       "      <td>Alkoholunfälle</td>\n",
       "      <td>Verletzte und Getötete</td>\n",
       "      <td>2014</td>\n",
       "      <td>Summe</td>\n",
       "      <td>167.0</td>\n",
       "    </tr>\n",
       "    <tr>\n",
       "      <th>388</th>\n",
       "      <td>Alkoholunfälle</td>\n",
       "      <td>Verletzte und Getötete</td>\n",
       "      <td>2013</td>\n",
       "      <td>Summe</td>\n",
       "      <td>153.0</td>\n",
       "    </tr>\n",
       "    <tr>\n",
       "      <th>401</th>\n",
       "      <td>Alkoholunfälle</td>\n",
       "      <td>Verletzte und Getötete</td>\n",
       "      <td>2012</td>\n",
       "      <td>Summe</td>\n",
       "      <td>223.0</td>\n",
       "    </tr>\n",
       "  </tbody>\n",
       "</table>\n",
       "</div>"
      ],
      "text/plain": [
       "         MONATSZAHL             AUSPRAEGUNG  JAHR  MONAT   WERT\n",
       "12   Alkoholunfälle               insgesamt  2020  Summe  430.0\n",
       "25   Alkoholunfälle               insgesamt  2019  Summe  434.0\n",
       "38   Alkoholunfälle               insgesamt  2018  Summe  398.0\n",
       "51   Alkoholunfälle               insgesamt  2017  Summe  409.0\n",
       "64   Alkoholunfälle               insgesamt  2016  Summe  301.0\n",
       "77   Alkoholunfälle               insgesamt  2015  Summe  411.0\n",
       "90   Alkoholunfälle               insgesamt  2014  Summe  382.0\n",
       "103  Alkoholunfälle               insgesamt  2013  Summe  377.0\n",
       "116  Alkoholunfälle               insgesamt  2012  Summe  440.0\n",
       "129  Alkoholunfälle               insgesamt  2011  Summe  397.0\n",
       "142  Alkoholunfälle               insgesamt  2010  Summe  402.0\n",
       "155  Alkoholunfälle               insgesamt  2009  Summe  430.0\n",
       "168  Alkoholunfälle               insgesamt  2008  Summe  482.0\n",
       "181  Alkoholunfälle               insgesamt  2007  Summe  560.0\n",
       "194  Alkoholunfälle               insgesamt  2006  Summe  599.0\n",
       "207  Alkoholunfälle               insgesamt  2005  Summe  600.0\n",
       "220  Alkoholunfälle               insgesamt  2004  Summe  659.0\n",
       "233  Alkoholunfälle               insgesamt  2003  Summe  730.0\n",
       "246  Alkoholunfälle               insgesamt  2002  Summe  803.0\n",
       "259  Alkoholunfälle               insgesamt  2001  Summe  848.0\n",
       "272  Alkoholunfälle               insgesamt  2000  Summe  934.0\n",
       "297  Alkoholunfälle  Verletzte und Getötete  2020  Summe  250.0\n",
       "310  Alkoholunfälle  Verletzte und Getötete  2019  Summe  227.0\n",
       "323  Alkoholunfälle  Verletzte und Getötete  2018  Summe  182.0\n",
       "336  Alkoholunfälle  Verletzte und Getötete  2017  Summe  176.0\n",
       "349  Alkoholunfälle  Verletzte und Getötete  2016  Summe  144.0\n",
       "362  Alkoholunfälle  Verletzte und Getötete  2015  Summe  225.0\n",
       "375  Alkoholunfälle  Verletzte und Getötete  2014  Summe  167.0\n",
       "388  Alkoholunfälle  Verletzte und Getötete  2013  Summe  153.0\n",
       "401  Alkoholunfälle  Verletzte und Getötete  2012  Summe  223.0"
      ]
     },
     "execution_count": 16,
     "metadata": {},
     "output_type": "execute_result"
    }
   ],
   "source": [
    "df_total = df[df['MONAT']=='Summe']\n",
    "df_total.head(30)"
   ]
  },
  {
   "cell_type": "code",
   "execution_count": 17,
   "metadata": {},
   "outputs": [],
   "source": [
    "df_total_category = df_total[df_total['AUSPRAEGUNG']== 'insgesamt'].sort_values('JAHR')"
   ]
  },
  {
   "cell_type": "code",
   "execution_count": 18,
   "metadata": {
    "scrolled": false
   },
   "outputs": [
    {
     "data": {
      "text/html": [
       "<div>\n",
       "<style scoped>\n",
       "    .dataframe tbody tr th:only-of-type {\n",
       "        vertical-align: middle;\n",
       "    }\n",
       "\n",
       "    .dataframe tbody tr th {\n",
       "        vertical-align: top;\n",
       "    }\n",
       "\n",
       "    .dataframe thead th {\n",
       "        text-align: right;\n",
       "    }\n",
       "</style>\n",
       "<table border=\"1\" class=\"dataframe\">\n",
       "  <thead>\n",
       "    <tr style=\"text-align: right;\">\n",
       "      <th></th>\n",
       "      <th>MONATSZAHL</th>\n",
       "      <th>AUSPRAEGUNG</th>\n",
       "      <th>JAHR</th>\n",
       "      <th>MONAT</th>\n",
       "      <th>WERT</th>\n",
       "    </tr>\n",
       "  </thead>\n",
       "  <tbody>\n",
       "    <tr>\n",
       "      <th>1412</th>\n",
       "      <td>Verkehrsunfälle</td>\n",
       "      <td>insgesamt</td>\n",
       "      <td>2000</td>\n",
       "      <td>Summe</td>\n",
       "      <td>44494.0</td>\n",
       "    </tr>\n",
       "    <tr>\n",
       "      <th>272</th>\n",
       "      <td>Alkoholunfälle</td>\n",
       "      <td>insgesamt</td>\n",
       "      <td>2000</td>\n",
       "      <td>Summe</td>\n",
       "      <td>934.0</td>\n",
       "    </tr>\n",
       "    <tr>\n",
       "      <th>842</th>\n",
       "      <td>Fluchtunfälle</td>\n",
       "      <td>insgesamt</td>\n",
       "      <td>2000</td>\n",
       "      <td>Summe</td>\n",
       "      <td>11467.0</td>\n",
       "    </tr>\n",
       "    <tr>\n",
       "      <th>829</th>\n",
       "      <td>Fluchtunfälle</td>\n",
       "      <td>insgesamt</td>\n",
       "      <td>2001</td>\n",
       "      <td>Summe</td>\n",
       "      <td>11396.0</td>\n",
       "    </tr>\n",
       "    <tr>\n",
       "      <th>259</th>\n",
       "      <td>Alkoholunfälle</td>\n",
       "      <td>insgesamt</td>\n",
       "      <td>2001</td>\n",
       "      <td>Summe</td>\n",
       "      <td>848.0</td>\n",
       "    </tr>\n",
       "  </tbody>\n",
       "</table>\n",
       "</div>"
      ],
      "text/plain": [
       "           MONATSZAHL AUSPRAEGUNG  JAHR  MONAT     WERT\n",
       "1412  Verkehrsunfälle   insgesamt  2000  Summe  44494.0\n",
       "272    Alkoholunfälle   insgesamt  2000  Summe    934.0\n",
       "842     Fluchtunfälle   insgesamt  2000  Summe  11467.0\n",
       "829     Fluchtunfälle   insgesamt  2001  Summe  11396.0\n",
       "259    Alkoholunfälle   insgesamt  2001  Summe    848.0"
      ]
     },
     "execution_count": 18,
     "metadata": {},
     "output_type": "execute_result"
    }
   ],
   "source": [
    "df_total_category.head()"
   ]
  },
  {
   "cell_type": "code",
   "execution_count": 19,
   "metadata": {},
   "outputs": [
    {
     "data": {
      "text/html": [
       "<div>\n",
       "<style scoped>\n",
       "    .dataframe tbody tr th:only-of-type {\n",
       "        vertical-align: middle;\n",
       "    }\n",
       "\n",
       "    .dataframe tbody tr th {\n",
       "        vertical-align: top;\n",
       "    }\n",
       "\n",
       "    .dataframe thead th {\n",
       "        text-align: right;\n",
       "    }\n",
       "</style>\n",
       "<table border=\"1\" class=\"dataframe\">\n",
       "  <thead>\n",
       "    <tr style=\"text-align: right;\">\n",
       "      <th>MONATSZAHL</th>\n",
       "      <th>Alkoholunfälle</th>\n",
       "      <th>Fluchtunfälle</th>\n",
       "      <th>Verkehrsunfälle</th>\n",
       "    </tr>\n",
       "    <tr>\n",
       "      <th>JAHR</th>\n",
       "      <th></th>\n",
       "      <th></th>\n",
       "      <th></th>\n",
       "    </tr>\n",
       "  </thead>\n",
       "  <tbody>\n",
       "    <tr>\n",
       "      <th>2000</th>\n",
       "      <td>934.0</td>\n",
       "      <td>11467.0</td>\n",
       "      <td>44494.0</td>\n",
       "    </tr>\n",
       "    <tr>\n",
       "      <th>2001</th>\n",
       "      <td>848.0</td>\n",
       "      <td>11396.0</td>\n",
       "      <td>45713.0</td>\n",
       "    </tr>\n",
       "    <tr>\n",
       "      <th>2002</th>\n",
       "      <td>803.0</td>\n",
       "      <td>10651.0</td>\n",
       "      <td>40608.0</td>\n",
       "    </tr>\n",
       "    <tr>\n",
       "      <th>2003</th>\n",
       "      <td>730.0</td>\n",
       "      <td>9611.0</td>\n",
       "      <td>38635.0</td>\n",
       "    </tr>\n",
       "    <tr>\n",
       "      <th>2004</th>\n",
       "      <td>659.0</td>\n",
       "      <td>10547.0</td>\n",
       "      <td>40064.0</td>\n",
       "    </tr>\n",
       "  </tbody>\n",
       "</table>\n",
       "</div>"
      ],
      "text/plain": [
       "MONATSZAHL  Alkoholunfälle  Fluchtunfälle  Verkehrsunfälle\n",
       "JAHR                                                      \n",
       "2000                 934.0        11467.0          44494.0\n",
       "2001                 848.0        11396.0          45713.0\n",
       "2002                 803.0        10651.0          40608.0\n",
       "2003                 730.0         9611.0          38635.0\n",
       "2004                 659.0        10547.0          40064.0"
      ]
     },
     "execution_count": 19,
     "metadata": {},
     "output_type": "execute_result"
    }
   ],
   "source": [
    "accidient_category = df_total_category.pivot(index = 'JAHR',columns = 'MONATSZAHL',\n",
    "                                            values = 'WERT')\n",
    "#accidient_category.add_suffix(' (Economic Damage)')\n",
    "accidient_category.head()"
   ]
  },
  {
   "cell_type": "code",
   "execution_count": 20,
   "metadata": {
    "scrolled": true
   },
   "outputs": [
    {
     "data": {
      "image/png": "[encoded data removed]",
      "text/plain": [
       "<Figure size 1080x576 with 1 Axes>"
      ]
     },
     "metadata": {
      "needs_background": "light"
     },
     "output_type": "display_data"
    }
   ],
   "source": [
    "# Plot the economic damage categorised by the type of natural disasters for 1950-2018\n",
    "accidient_category.loc[2000:].plot.bar(width = 0.8, stacked = True, figsize = (15, 8))\n",
    "\n",
    "plt.title('Total numbers of accidents by types for 2000-2020', fontsize = 19)\n",
    "plt.xlabel('Year', fontsize = 15)\n",
    "plt.ylabel('Total numbers of accidents', fontsize = 15)\n",
    "plt.legend(loc = 2, prop = {'size': 12})\n",
    "plt.show()"
   ]
  },
  {
   "cell_type": "markdown",
   "metadata": {},
   "source": [
    "This gives us the overall trend of each type accident from 2000 to 2020.From the anually analysis,we could know that the alchoho accidents only occupy less portion in these three types accidents and its accident rate is quite lower compared with the other two accidents.\n",
    "\n",
    "// However,our aim is to predict the total number of alchoho accidents which will happens on January, 2021.From the plot above, we could know the number of alchoho accidents is much lower than the other two categories.And there is no relation between different accidents. So we can folucs on the alchoho accidents and only consider the column named AUSPRAEGUNG which only relates with the value in insgesamt. So we can need to remove the 'Summe' rows to exhibit the monthlt variation and select the total accident number in the 'insgesamt'column."
   ]
  },
  {
   "cell_type": "markdown",
   "metadata": {},
   "source": [
    "Since we need to predict the data in 2021,we firstly delete the zero value in 2021."
   ]
  },
  {
   "cell_type": "code",
   "execution_count": 21,
   "metadata": {
    "scrolled": false
   },
   "outputs": [
    {
     "data": {
      "text/html": [
       "<div>\n",
       "<style scoped>\n",
       "    .dataframe tbody tr th:only-of-type {\n",
       "        vertical-align: middle;\n",
       "    }\n",
       "\n",
       "    .dataframe tbody tr th {\n",
       "        vertical-align: top;\n",
       "    }\n",
       "\n",
       "    .dataframe thead th {\n",
       "        text-align: right;\n",
       "    }\n",
       "</style>\n",
       "<table border=\"1\" class=\"dataframe\">\n",
       "  <thead>\n",
       "    <tr style=\"text-align: right;\">\n",
       "      <th></th>\n",
       "      <th>MONATSZAHL</th>\n",
       "      <th>AUSPRAEGUNG</th>\n",
       "      <th>JAHR</th>\n",
       "      <th>MONAT</th>\n",
       "      <th>WERT</th>\n",
       "    </tr>\n",
       "  </thead>\n",
       "  <tbody>\n",
       "    <tr>\n",
       "      <th>273</th>\n",
       "      <td>Alkoholunfälle</td>\n",
       "      <td>insgesamt</td>\n",
       "      <td>2000</td>\n",
       "      <td>200001</td>\n",
       "      <td>78.0</td>\n",
       "    </tr>\n",
       "    <tr>\n",
       "      <th>274</th>\n",
       "      <td>Alkoholunfälle</td>\n",
       "      <td>insgesamt</td>\n",
       "      <td>2000</td>\n",
       "      <td>200002</td>\n",
       "      <td>53.0</td>\n",
       "    </tr>\n",
       "    <tr>\n",
       "      <th>275</th>\n",
       "      <td>Alkoholunfälle</td>\n",
       "      <td>insgesamt</td>\n",
       "      <td>2000</td>\n",
       "      <td>200003</td>\n",
       "      <td>73.0</td>\n",
       "    </tr>\n",
       "    <tr>\n",
       "      <th>276</th>\n",
       "      <td>Alkoholunfälle</td>\n",
       "      <td>insgesamt</td>\n",
       "      <td>2000</td>\n",
       "      <td>200004</td>\n",
       "      <td>78.0</td>\n",
       "    </tr>\n",
       "    <tr>\n",
       "      <th>277</th>\n",
       "      <td>Alkoholunfälle</td>\n",
       "      <td>insgesamt</td>\n",
       "      <td>2000</td>\n",
       "      <td>200005</td>\n",
       "      <td>96.0</td>\n",
       "    </tr>\n",
       "    <tr>\n",
       "      <th>278</th>\n",
       "      <td>Alkoholunfälle</td>\n",
       "      <td>insgesamt</td>\n",
       "      <td>2000</td>\n",
       "      <td>200006</td>\n",
       "      <td>57.0</td>\n",
       "    </tr>\n",
       "    <tr>\n",
       "      <th>279</th>\n",
       "      <td>Alkoholunfälle</td>\n",
       "      <td>insgesamt</td>\n",
       "      <td>2000</td>\n",
       "      <td>200007</td>\n",
       "      <td>99.0</td>\n",
       "    </tr>\n",
       "    <tr>\n",
       "      <th>280</th>\n",
       "      <td>Alkoholunfälle</td>\n",
       "      <td>insgesamt</td>\n",
       "      <td>2000</td>\n",
       "      <td>200008</td>\n",
       "      <td>77.0</td>\n",
       "    </tr>\n",
       "    <tr>\n",
       "      <th>281</th>\n",
       "      <td>Alkoholunfälle</td>\n",
       "      <td>insgesamt</td>\n",
       "      <td>2000</td>\n",
       "      <td>200009</td>\n",
       "      <td>84.0</td>\n",
       "    </tr>\n",
       "    <tr>\n",
       "      <th>282</th>\n",
       "      <td>Alkoholunfälle</td>\n",
       "      <td>insgesamt</td>\n",
       "      <td>2000</td>\n",
       "      <td>200010</td>\n",
       "      <td>83.0</td>\n",
       "    </tr>\n",
       "    <tr>\n",
       "      <th>283</th>\n",
       "      <td>Alkoholunfälle</td>\n",
       "      <td>insgesamt</td>\n",
       "      <td>2000</td>\n",
       "      <td>200011</td>\n",
       "      <td>71.0</td>\n",
       "    </tr>\n",
       "    <tr>\n",
       "      <th>284</th>\n",
       "      <td>Alkoholunfälle</td>\n",
       "      <td>insgesamt</td>\n",
       "      <td>2000</td>\n",
       "      <td>200012</td>\n",
       "      <td>85.0</td>\n",
       "    </tr>\n",
       "    <tr>\n",
       "      <th>260</th>\n",
       "      <td>Alkoholunfälle</td>\n",
       "      <td>insgesamt</td>\n",
       "      <td>2001</td>\n",
       "      <td>200101</td>\n",
       "      <td>66.0</td>\n",
       "    </tr>\n",
       "    <tr>\n",
       "      <th>261</th>\n",
       "      <td>Alkoholunfälle</td>\n",
       "      <td>insgesamt</td>\n",
       "      <td>2001</td>\n",
       "      <td>200102</td>\n",
       "      <td>49.0</td>\n",
       "    </tr>\n",
       "    <tr>\n",
       "      <th>262</th>\n",
       "      <td>Alkoholunfälle</td>\n",
       "      <td>insgesamt</td>\n",
       "      <td>2001</td>\n",
       "      <td>200103</td>\n",
       "      <td>63.0</td>\n",
       "    </tr>\n",
       "    <tr>\n",
       "      <th>263</th>\n",
       "      <td>Alkoholunfälle</td>\n",
       "      <td>insgesamt</td>\n",
       "      <td>2001</td>\n",
       "      <td>200104</td>\n",
       "      <td>68.0</td>\n",
       "    </tr>\n",
       "    <tr>\n",
       "      <th>264</th>\n",
       "      <td>Alkoholunfälle</td>\n",
       "      <td>insgesamt</td>\n",
       "      <td>2001</td>\n",
       "      <td>200105</td>\n",
       "      <td>85.0</td>\n",
       "    </tr>\n",
       "    <tr>\n",
       "      <th>265</th>\n",
       "      <td>Alkoholunfälle</td>\n",
       "      <td>insgesamt</td>\n",
       "      <td>2001</td>\n",
       "      <td>200106</td>\n",
       "      <td>68.0</td>\n",
       "    </tr>\n",
       "    <tr>\n",
       "      <th>266</th>\n",
       "      <td>Alkoholunfälle</td>\n",
       "      <td>insgesamt</td>\n",
       "      <td>2001</td>\n",
       "      <td>200107</td>\n",
       "      <td>71.0</td>\n",
       "    </tr>\n",
       "    <tr>\n",
       "      <th>267</th>\n",
       "      <td>Alkoholunfälle</td>\n",
       "      <td>insgesamt</td>\n",
       "      <td>2001</td>\n",
       "      <td>200108</td>\n",
       "      <td>60.0</td>\n",
       "    </tr>\n",
       "  </tbody>\n",
       "</table>\n",
       "</div>"
      ],
      "text/plain": [
       "         MONATSZAHL AUSPRAEGUNG  JAHR   MONAT  WERT\n",
       "273  Alkoholunfälle   insgesamt  2000  200001  78.0\n",
       "274  Alkoholunfälle   insgesamt  2000  200002  53.0\n",
       "275  Alkoholunfälle   insgesamt  2000  200003  73.0\n",
       "276  Alkoholunfälle   insgesamt  2000  200004  78.0\n",
       "277  Alkoholunfälle   insgesamt  2000  200005  96.0\n",
       "278  Alkoholunfälle   insgesamt  2000  200006  57.0\n",
       "279  Alkoholunfälle   insgesamt  2000  200007  99.0\n",
       "280  Alkoholunfälle   insgesamt  2000  200008  77.0\n",
       "281  Alkoholunfälle   insgesamt  2000  200009  84.0\n",
       "282  Alkoholunfälle   insgesamt  2000  200010  83.0\n",
       "283  Alkoholunfälle   insgesamt  2000  200011  71.0\n",
       "284  Alkoholunfälle   insgesamt  2000  200012  85.0\n",
       "260  Alkoholunfälle   insgesamt  2001  200101  66.0\n",
       "261  Alkoholunfälle   insgesamt  2001  200102  49.0\n",
       "262  Alkoholunfälle   insgesamt  2001  200103  63.0\n",
       "263  Alkoholunfälle   insgesamt  2001  200104  68.0\n",
       "264  Alkoholunfälle   insgesamt  2001  200105  85.0\n",
       "265  Alkoholunfälle   insgesamt  2001  200106  68.0\n",
       "266  Alkoholunfälle   insgesamt  2001  200107  71.0\n",
       "267  Alkoholunfälle   insgesamt  2001  200108  60.0"
      ]
     },
     "execution_count": 21,
     "metadata": {},
     "output_type": "execute_result"
    }
   ],
   "source": [
    "df = df[df['JAHR'] != 2021]\n",
    "df_m = df[df['MONAT']!='Summe']\n",
    "df_m_alcohole = df_m[df_m['MONATSZAHL'] == 'Alkoholunfälle']\n",
    "df_m_alcohole_insgesamt = df_m_alcohole[df_m_alcohole['AUSPRAEGUNG'] == 'insgesamt'].sort_values('MONAT')\n",
    "df_m_alcohole_insgesamt.head(20)"
   ]
  },
  {
   "cell_type": "code",
   "execution_count": 22,
   "metadata": {
    "scrolled": true
   },
   "outputs": [
    {
     "data": {
      "text/html": [
       "<div>\n",
       "<style scoped>\n",
       "    .dataframe tbody tr th:only-of-type {\n",
       "        vertical-align: middle;\n",
       "    }\n",
       "\n",
       "    .dataframe tbody tr th {\n",
       "        vertical-align: top;\n",
       "    }\n",
       "\n",
       "    .dataframe thead th {\n",
       "        text-align: right;\n",
       "    }\n",
       "</style>\n",
       "<table border=\"1\" class=\"dataframe\">\n",
       "  <thead>\n",
       "    <tr style=\"text-align: right;\">\n",
       "      <th></th>\n",
       "      <th>MONATSZAHL</th>\n",
       "      <th>AUSPRAEGUNG</th>\n",
       "      <th>JAHR</th>\n",
       "      <th>WERT</th>\n",
       "    </tr>\n",
       "    <tr>\n",
       "      <th>MONAT</th>\n",
       "      <th></th>\n",
       "      <th></th>\n",
       "      <th></th>\n",
       "      <th></th>\n",
       "    </tr>\n",
       "  </thead>\n",
       "  <tbody>\n",
       "    <tr>\n",
       "      <th>200001</th>\n",
       "      <td>Alkoholunfälle</td>\n",
       "      <td>insgesamt</td>\n",
       "      <td>2000</td>\n",
       "      <td>78.0</td>\n",
       "    </tr>\n",
       "    <tr>\n",
       "      <th>200002</th>\n",
       "      <td>Alkoholunfälle</td>\n",
       "      <td>insgesamt</td>\n",
       "      <td>2000</td>\n",
       "      <td>53.0</td>\n",
       "    </tr>\n",
       "    <tr>\n",
       "      <th>200003</th>\n",
       "      <td>Alkoholunfälle</td>\n",
       "      <td>insgesamt</td>\n",
       "      <td>2000</td>\n",
       "      <td>73.0</td>\n",
       "    </tr>\n",
       "    <tr>\n",
       "      <th>200004</th>\n",
       "      <td>Alkoholunfälle</td>\n",
       "      <td>insgesamt</td>\n",
       "      <td>2000</td>\n",
       "      <td>78.0</td>\n",
       "    </tr>\n",
       "    <tr>\n",
       "      <th>200005</th>\n",
       "      <td>Alkoholunfälle</td>\n",
       "      <td>insgesamt</td>\n",
       "      <td>2000</td>\n",
       "      <td>96.0</td>\n",
       "    </tr>\n",
       "  </tbody>\n",
       "</table>\n",
       "</div>"
      ],
      "text/plain": [
       "            MONATSZAHL AUSPRAEGUNG  JAHR  WERT\n",
       "MONAT                                         \n",
       "200001  Alkoholunfälle   insgesamt  2000  78.0\n",
       "200002  Alkoholunfälle   insgesamt  2000  53.0\n",
       "200003  Alkoholunfälle   insgesamt  2000  73.0\n",
       "200004  Alkoholunfälle   insgesamt  2000  78.0\n",
       "200005  Alkoholunfälle   insgesamt  2000  96.0"
      ]
     },
     "execution_count": 22,
     "metadata": {},
     "output_type": "execute_result"
    }
   ],
   "source": [
    "df_m_alcohole_insgesamt = df_m_alcohole_insgesamt.set_index(['MONAT'])\n",
    "df_m_alcohole_insgesamt.head()"
   ]
  },
  {
   "cell_type": "code",
   "execution_count": 23,
   "metadata": {
    "scrolled": true
   },
   "outputs": [
    {
     "data": {
      "image/png": "[encoded data removed]",
      "text/plain": [
       "<Figure size 1800x360 with 1 Axes>"
      ]
     },
     "metadata": {
      "needs_background": "light"
     },
     "output_type": "display_data"
    }
   ],
   "source": [
    "fig, ax = plt.subplots(figsize=(25,5)) \n",
    "ax.bar(df_m_alcohole_insgesamt.index,df_m_alcohole_insgesamt['WERT'])\n",
    "ax.set_xticks(ax.get_xticks()[::6])\n",
    "ax.margins(x=0)\n",
    "plt.title('Total numbers of alchol accidents for 2000-2020', fontsize = 19)\n",
    "plt.xlabel('Month', fontsize = 15)\n",
    "plt.ylabel('Total numbers of alchole accidents', fontsize = 15)\n",
    "plt.xticks(rotation=65)\n",
    "#plt.legend(loc = 2, prop = {'size': 12})\n",
    "plt.show()"
   ]
  },
  {
   "cell_type": "markdown",
   "metadata": {},
   "source": [
    "As we can observe, the alchole accident varies monly and yearly. But it still can conclude that the general alchole accident rate have been decreasing since 2007.\n",
    "// we can change the color of each year."
   ]
  },
  {
   "cell_type": "markdown",
   "metadata": {},
   "source": [
    "# Prediction "
   ]
  },
  {
   "cell_type": "code",
   "execution_count": 24,
   "metadata": {
    "scrolled": false
   },
   "outputs": [
    {
     "data": {
      "text/html": [
       "<div>\n",
       "<style scoped>\n",
       "    .dataframe tbody tr th:only-of-type {\n",
       "        vertical-align: middle;\n",
       "    }\n",
       "\n",
       "    .dataframe tbody tr th {\n",
       "        vertical-align: top;\n",
       "    }\n",
       "\n",
       "    .dataframe thead th {\n",
       "        text-align: right;\n",
       "    }\n",
       "</style>\n",
       "<table border=\"1\" class=\"dataframe\">\n",
       "  <thead>\n",
       "    <tr style=\"text-align: right;\">\n",
       "      <th></th>\n",
       "      <th>MONATSZAHL</th>\n",
       "      <th>AUSPRAEGUNG</th>\n",
       "      <th>JAHR</th>\n",
       "      <th>WERT</th>\n",
       "    </tr>\n",
       "    <tr>\n",
       "      <th>MONAT</th>\n",
       "      <th></th>\n",
       "      <th></th>\n",
       "      <th></th>\n",
       "      <th></th>\n",
       "    </tr>\n",
       "  </thead>\n",
       "  <tbody>\n",
       "    <tr>\n",
       "      <th>200001</th>\n",
       "      <td>Alkoholunfälle</td>\n",
       "      <td>insgesamt</td>\n",
       "      <td>2000</td>\n",
       "      <td>78.0</td>\n",
       "    </tr>\n",
       "    <tr>\n",
       "      <th>200002</th>\n",
       "      <td>Alkoholunfälle</td>\n",
       "      <td>insgesamt</td>\n",
       "      <td>2000</td>\n",
       "      <td>53.0</td>\n",
       "    </tr>\n",
       "    <tr>\n",
       "      <th>200003</th>\n",
       "      <td>Alkoholunfälle</td>\n",
       "      <td>insgesamt</td>\n",
       "      <td>2000</td>\n",
       "      <td>73.0</td>\n",
       "    </tr>\n",
       "    <tr>\n",
       "      <th>200004</th>\n",
       "      <td>Alkoholunfälle</td>\n",
       "      <td>insgesamt</td>\n",
       "      <td>2000</td>\n",
       "      <td>78.0</td>\n",
       "    </tr>\n",
       "    <tr>\n",
       "      <th>200005</th>\n",
       "      <td>Alkoholunfälle</td>\n",
       "      <td>insgesamt</td>\n",
       "      <td>2000</td>\n",
       "      <td>96.0</td>\n",
       "    </tr>\n",
       "  </tbody>\n",
       "</table>\n",
       "</div>"
      ],
      "text/plain": [
       "            MONATSZAHL AUSPRAEGUNG  JAHR  WERT\n",
       "MONAT                                         \n",
       "200001  Alkoholunfälle   insgesamt  2000  78.0\n",
       "200002  Alkoholunfälle   insgesamt  2000  53.0\n",
       "200003  Alkoholunfälle   insgesamt  2000  73.0\n",
       "200004  Alkoholunfälle   insgesamt  2000  78.0\n",
       "200005  Alkoholunfälle   insgesamt  2000  96.0"
      ]
     },
     "execution_count": 24,
     "metadata": {},
     "output_type": "execute_result"
    }
   ],
   "source": [
    "df_m_alcohole_insgesamt.head()"
   ]
  },
  {
   "cell_type": "code",
   "execution_count": 25,
   "metadata": {},
   "outputs": [
    {
     "data": {
      "text/plain": [
       "Index(['200001', '200002', '200003', '200004', '200005', '200006', '200007',\n",
       "       '200008', '200009', '200010',\n",
       "       ...\n",
       "       '202003', '202004', '202005', '202006', '202007', '202008', '202009',\n",
       "       '202010', '202011', '202012'],\n",
       "      dtype='object', name='MONAT', length=252)"
      ]
     },
     "execution_count": 25,
     "metadata": {},
     "output_type": "execute_result"
    }
   ],
   "source": [
    "df_m_alcohole_insgesamt.index"
   ]
  },
  {
   "cell_type": "code",
   "execution_count": 26,
   "metadata": {
    "scrolled": true
   },
   "outputs": [],
   "source": [
    "x = df_m_alcohole_insgesamt.index\n",
    "x = x.to_numpy()"
   ]
  },
  {
   "cell_type": "code",
   "execution_count": 28,
   "metadata": {
    "scrolled": true
   },
   "outputs": [],
   "source": [
    "y = df_m_alcohole_insgesamt['WERT'].values"
   ]
  },
  {
   "cell_type": "code",
   "execution_count": 29,
   "metadata": {},
   "outputs": [
    {
     "data": {
      "text/plain": [
       "numpy.ndarray"
      ]
     },
     "execution_count": 29,
     "metadata": {},
     "output_type": "execute_result"
    }
   ],
   "source": [
    "type(x)"
   ]
  },
  {
   "cell_type": "code",
   "execution_count": 63,
   "metadata": {},
   "outputs": [
    {
     "data": {
      "text/plain": [
       "numpy.ndarray"
      ]
     },
     "execution_count": 63,
     "metadata": {},
     "output_type": "execute_result"
    }
   ],
   "source": [
    "type(y)"
   ]
  },
  {
   "cell_type": "code",
   "execution_count": 30,
   "metadata": {
    "scrolled": true
   },
   "outputs": [
    {
     "data": {
      "image/png": "[encoded data removed]",
      "text/plain": [
       "<Figure size 1800x360 with 1 Axes>"
      ]
     },
     "metadata": {
      "needs_background": "light"
     },
     "output_type": "display_data"
    }
   ],
   "source": [
    "fig, ax = plt.subplots(figsize=(25,5))\n",
    "plt.scatter(x,y)\n",
    "ax.set_xticks(ax.get_xticks()[::6])\n",
    "ax.margins(x=0)\n",
    "plt.title('Total numbers of alchol accidents for 2000-2020', fontsize = 19)\n",
    "plt.xlabel('Month', fontsize = 15)\n",
    "plt.ylabel('Total numbers of alchol accidents', fontsize = 15)\n",
    "plt.xticks(rotation=65)\n",
    "#plt.legend(loc = 2, prop = {'size': 12})\n",
    "plt.show()"
   ]
  },
  {
   "cell_type": "markdown",
   "metadata": {},
   "source": [
    "# Split the data into the training and test data:"
   ]
  },
  {
   "cell_type": "code",
   "execution_count": 31,
   "metadata": {},
   "outputs": [],
   "source": [
    "from sklearn.model_selection import train_test_split"
   ]
  },
  {
   "cell_type": "code",
   "execution_count": 32,
   "metadata": {},
   "outputs": [],
   "source": [
    "# transforming the data to include another axis\n",
    "x = x[:, np.newaxis]\n",
    "y = y[:, np.newaxis]"
   ]
  },
  {
   "cell_type": "code",
   "execution_count": 33,
   "metadata": {},
   "outputs": [
    {
     "name": "stdout",
     "output_type": "stream",
     "text": [
      "(201, 1)\n",
      "(51, 1)\n",
      "(201, 1)\n",
      "(51, 1)\n"
     ]
    }
   ],
   "source": [
    "x_train, x_test, y_train, y_test = train_test_split(x, y, test_size = 0.2, random_state=5)\n",
    "print(x_train.shape)\n",
    "print(x_test.shape)\n",
    "print(y_train.shape)\n",
    "print(y_test.shape)"
   ]
  },
  {
   "cell_type": "markdown",
   "metadata": {},
   "source": [
    "# Train and test the model:"
   ]
  },
  {
   "cell_type": "code",
   "execution_count": 34,
   "metadata": {},
   "outputs": [],
   "source": [
    "from sklearn.linear_model import LinearRegression\n",
    "from sklearn.metrics import mean_squared_error, r2_score\n",
    "from sklearn.preprocessing import PolynomialFeatures"
   ]
  },
  {
   "cell_type": "code",
   "execution_count": 35,
   "metadata": {},
   "outputs": [],
   "source": [
    "def create_polynomial_regression_model(degree, x_target_predict):\n",
    "    poly_features= PolynomialFeatures(degree = degree)\n",
    "    # transforms the existing features to higher degree features\n",
    "    x_train_poly = poly_features.fit_transform(x_train)\n",
    "    # fit the transformed features to Linear Regression\n",
    "    model = LinearRegression()\n",
    "    model.fit(x_train_poly, y_train)\n",
    "    # predicting on training data-set\n",
    "    y_train_predicted = model.predict(x_train_poly)\n",
    "    # predicting on test data-set\n",
    "    y_test_predict = model.predict(poly_features.fit_transform(x_test))\n",
    "    # evaluating the model on training dataset\n",
    "    rmse_train = np.sqrt(mean_squared_error(y_train, y_train_predicted))\n",
    "    r2_train = r2_score(y_train, y_train_predicted)\n",
    "    # evaluating the model on test dataset\n",
    "    rmse_test = np.sqrt(mean_squared_error(y_test, y_test_predict))\n",
    "    r2_test = r2_score(y_test, y_test_predict)\n",
    "    #predict target y value based on the model \n",
    "    # transforms the existing features to higher degree features\n",
    "    #x_target_predict = poly_features.fit_transform(x_target_predict)\n",
    "    y_target_predict = model.predict(poly_features.fit_transform(x_target_predict))\n",
    "    print (\"The total number of \".format(y_target_predict))   \n",
    "    print(\"The model performance for the training set\")\n",
    "    print(\"-------------------------------------------\")\n",
    "    print(\"RMSE of training set is {}\".format(rmse_train))\n",
    "    print(\"R2 score of training set is {}\".format(r2_train))\n",
    "\n",
    "    print(\"\\n\")\n",
    "\n",
    "    print(\"The model performance for the test set\")\n",
    "    print(\"-------------------------------------------\")\n",
    "    print(\"RMSE of test set is {}\".format(rmse_test))\n",
    "    print(\"R2 score of test set is {}\".format(r2_test))"
   ]
  },
  {
   "cell_type": "code",
   "execution_count": 36,
   "metadata": {
    "scrolled": true
   },
   "outputs": [
    {
     "name": "stdout",
     "output_type": "stream",
     "text": [
      "The total number of \n",
      "The model performance for the training set\n",
      "-------------------------------------------\n",
      "RMSE of training set is 11.294636113132844\n",
      "R2 score of training set is 0.6100429968318982\n",
      "\n",
      "\n",
      "The model performance for the test set\n",
      "-------------------------------------------\n",
      "RMSE of test set is 10.698057317167066\n",
      "R2 score of test set is 0.6395353400119395\n"
     ]
    },
    {
     "name": "stderr",
     "output_type": "stream",
     "text": [
      "/Users/wuriga/opt/anaconda3/lib/python3.8/site-packages/sklearn/utils/validation.py:72: FutureWarning: Beginning in version 0.22, arrays of bytes/strings will be converted to decimal numbers if dtype='numeric'. It is recommended that you convert the array to a float dtype before using it in scikit-learn, for example by using your_array = your_array.astype(np.float64).\n",
      "  return f(**kwargs)\n"
     ]
    }
   ],
   "source": [
    "x_test_  = np.array([['202101']])\n",
    "create_polynomial_regression_model(2, x_test_)"
   ]
  },
  {
   "cell_type": "markdown",
   "metadata": {},
   "source": [
    "Conclution : From the plot above, we use Polynomial Regression to do the prefiction. The result shows that the total number of alchol accidents happened in january,2021 is 40.63256926 with a R value of 0.61.  "
   ]
  },
  {
   "cell_type": "code",
   "execution_count": null,
   "metadata": {},
   "outputs": [],
   "source": []
  }
 ],
 "metadata": {
  "kernelspec": {
   "display_name": "Python 3",
   "language": "python",
   "name": "python3"
  },
  "language_info": {
   "codemirror_mode": {
    "name": "ipython",
    "version": 3
   },
   "file_extension": ".py",
   "mimetype": "text/x-python",
   "name": "python",
   "nbconvert_exporter": "python",
   "pygments_lexer": "ipython3",
   "version": "3.8.5"
  }
 },
 "nbformat": 4,
 "nbformat_minor": 4
}
